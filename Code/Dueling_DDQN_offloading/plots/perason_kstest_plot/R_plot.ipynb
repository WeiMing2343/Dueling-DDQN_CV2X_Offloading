{
 "cells": [
  {
   "cell_type": "code",
   "execution_count": 1,
   "id": "a7d93152",
   "metadata": {},
   "outputs": [
    {
     "name": "stderr",
     "output_type": "stream",
     "text": [
      "Loading required package: MASS\n",
      "Loading required package: survival\n",
      "Warning message in file(file, \"rt\"):\n",
      "\"無法開啟檔案 'best_score_latency_0409.csv' ：No such file or directory\""
     ]
    },
    {
     "ename": "ERROR",
     "evalue": "Error in file(file, \"rt\"): 無法開啟連結\n",
     "output_type": "error",
     "traceback": [
      "Error in file(file, \"rt\"): 無法開啟連結\nTraceback:\n",
      "1. read.csv(\"best_score_latency_0409.csv\", header = TRUE)",
      "2. read.table(file = file, header = header, sep = sep, quote = quote, \n .     dec = dec, fill = fill, comment.char = comment.char, ...)",
      "3. file(file, \"rt\")"
     ]
    }
   ],
   "source": [
    "library(fitdistrplus)\n",
    "\n",
    "# 讀取資料\n",
    "data <- read.csv(\"best_score_latency_0409.csv\", header = TRUE)\n",
    "\n",
    "# 檢查資料型態\n",
    "str(data)\n",
    "\n",
    "summary(data$score)\n",
    "# 將資料型態轉換為數值型態\n",
    "data <- as.numeric(data$score)\n",
    "\n",
    "# 檢查資料型態\n",
    "str(data)\n",
    "\n",
    "# 擬合資料到正態分布，使用descdist()函數繪製Cullen and Frey plot\n",
    "descdist(data, \"norm\")"
   ]
  },
  {
   "cell_type": "code",
   "execution_count": 29,
   "id": "e8af6492",
   "metadata": {
    "scrolled": false
   },
   "outputs": [
    {
     "data": {
      "text/plain": [
       "summary statistics\n",
       "------\n",
       "min:  0.3359606   max:  0.9333333 \n",
       "median:  0.5942238 \n",
       "mean:  0.5953082 \n",
       "estimated sd:  0.08072109 \n",
       "estimated skewness:  0.1254216 \n",
       "estimated kurtosis:  3.257293 "
      ]
     },
     "metadata": {},
     "output_type": "display_data"
    },
    {
     "data": {
      "text/html": [
       "<strong>png:</strong> 2"
      ],
      "text/latex": [
       "\\textbf{png:} 2"
      ],
      "text/markdown": [
       "**png:** 2"
      ],
      "text/plain": [
       "png \n",
       "  2 "
      ]
     },
     "metadata": {},
     "output_type": "display_data"
    },
    {
     "data": {
      "text/plain": [
       "summary statistics\n",
       "------\n",
       "min:  0.3359606   max:  0.9333333 \n",
       "median:  0.5942238 \n",
       "mean:  0.5953082 \n",
       "estimated sd:  0.08072109 \n",
       "estimated skewness:  0.1254216 \n",
       "estimated kurtosis:  3.257293 "
      ]
     },
     "metadata": {},
     "output_type": "display_data"
    },
    {
     "data": {
      "text/html": [
       "<strong>png:</strong> 2"
      ],
      "text/latex": [
       "\\textbf{png:} 2"
      ],
      "text/markdown": [
       "**png:** 2"
      ],
      "text/plain": [
       "png \n",
       "  2 "
      ]
     },
     "metadata": {},
     "output_type": "display_data"
    },
    {
     "data": {
      "image/png": "[encoded data removed]",
      "text/plain": [
       "Plot with title \"Cullen and Frey graph\""
      ]
     },
     "metadata": {},
     "output_type": "display_data"
    }
   ],
   "source": [
    "library(fitdistrplus)\n",
    "\n",
    "# 讀取資料\n",
    "data <- read.csv(\"poisson_plot_latency0.csv\", header = TRUE)\n",
    "data <- as.numeric(unlist(data))\n",
    "\n",
    "# 擬合資料到正態分布，使用descdist()函數繪製Cullen and Frey plot\n",
    "plot_cf <- descdist(data, discrete=FALSE)\n",
    "png(file=\"local_cullen_and_frey_graph.png\", width=5500, height=5500 ,res = 900)\n",
    "descdist(data, discrete=FALSE)\n",
    "\n",
    "dev.off()\n",
    "\n",
    "# save histogram in pdf format in current directory\n",
    "pdf(file=\"local_cullen_and_frey_graph.pdf\")\n",
    "\n",
    "# a histogram we want to save\n",
    "descdist(data, discrete=FALSE)\n",
    "\n",
    "# call this function to save the file \n",
    "dev.off()"
   ]
  },
  {
   "cell_type": "code",
   "execution_count": 21,
   "id": "07d905d4",
   "metadata": {},
   "outputs": [
    {
     "name": "stderr",
     "output_type": "stream",
     "text": [
      "Warning message in min(x):\n",
      "\"min 中沒有無漏失的引數; 回傳 Inf\"Warning message in max(x):\n",
      "\"max 中沒有無漏失的引數；回傳 -Inf\"Warning message in min(x):\n",
      "\"min 中沒有無漏失的引數; 回傳 Inf\"Warning message in max(x):\n",
      "\"max 中沒有無漏失的引數；回傳 -Inf\"Warning message in plot.window(...):\n",
      "\"\"col.obs\" 不是一個繪圖參數\""
     ]
    },
    {
     "ename": "ERROR",
     "evalue": "Error in plot.window(...): 'xlim' 值不能是無限的\n",
     "output_type": "error",
     "traceback": [
      "Error in plot.window(...): 'xlim' 值不能是無限的\nTraceback:\n",
      "1. plot(result$call$distribution, main = \"\", col.obs = \"red\")",
      "2. plot.default(result$call$distribution, main = \"\", col.obs = \"red\")",
      "3. localWindow(xlim, ylim, log, asp, ...)",
      "4. plot.window(...)"
     ]
    },
    {
     "data": {
      "image/png": "[encoded data removed]",
      "text/plain": [
       "Plot with title \"Cullen and Frey graph\""
      ]
     },
     "metadata": {},
     "output_type": "display_data"
    },
    {
     "data": {
      "image/png": "[encoded data removed]",
      "text/plain": [
       "plot without title"
      ]
     },
     "metadata": {},
     "output_type": "display_data"
    }
   ],
   "source": [
    "library(fitdistrplus)\n",
    "\n",
    "# 讀取資料\n",
    "data <- read.csv(\"poisson_plot_latency0.csv\", header = TRUE)\n",
    "data <- as.numeric(unlist(data))\n",
    "\n",
    "# 擬合資料到正態分布\n",
    "result <- descdist(data, discrete = FALSE)\n",
    "\n",
    "# 繪製Cullen and Frey plot並設置標題為空字串\n",
    "plot(result$call$distribution, main = \"\", col.obs = \"red\")\n",
    "\n",
    "# 保存圖表為圖片\n",
    "png(file = \"local_cullen_and_frey_graph.png\", width = 4800, height = 4800, res = 900)\n",
    "plot(result$call$distribution, main = \"\", col.obs = \"red\")\n",
    "dev.off()\n",
    "\n",
    "# 保存圖表為PDF\n",
    "pdf(file = \"local_cullen_and_frey_graph.pdf\")\n",
    "plot(result$call$distribution, main = \"\", col.obs = \"red\")\n",
    "dev.off()\n"
   ]
  },
  {
   "cell_type": "code",
   "execution_count": 20,
   "id": "c71d54bf",
   "metadata": {
    "scrolled": false
   },
   "outputs": [
    {
     "name": "stderr",
     "output_type": "stream",
     "text": [
      "Warning message in min(x):\n",
      "\"min 中沒有無漏失的引數; 回傳 Inf\"Warning message in max(x):\n",
      "\"max 中沒有無漏失的引數；回傳 -Inf\"Warning message in min(x):\n",
      "\"min 中沒有無漏失的引數; 回傳 Inf\"Warning message in max(x):\n",
      "\"max 中沒有無漏失的引數；回傳 -Inf\""
     ]
    },
    {
     "ename": "ERROR",
     "evalue": "Error in plot.window(...): 'xlim' 值不能是無限的\n",
     "output_type": "error",
     "traceback": [
      "Error in plot.window(...): 'xlim' 值不能是無限的\nTraceback:\n",
      "1. plot(result$call$distribution, main = \"\")",
      "2. plot.default(result$call$distribution, main = \"\")",
      "3. localWindow(xlim, ylim, log, asp, ...)",
      "4. plot.window(...)"
     ]
    },
    {
     "data": {
      "image/png": "[encoded data removed]",
      "text/plain": [
       "Plot with title \"Cullen and Frey graph\""
      ]
     },
     "metadata": {},
     "output_type": "display_data"
    },
    {
     "data": {
      "image/png": "[encoded data removed]",
      "text/plain": [
       "plot without title"
      ]
     },
     "metadata": {},
     "output_type": "display_data"
    }
   ],
   "source": [
    "library(fitdistrplus)\n",
    "\n",
    "# 讀取資料\n",
    "data <- read.csv(\"poisson_plot_latency0.csv\", header = TRUE)\n",
    "data <- as.numeric(unlist(data))\n",
    "\n",
    "# 擬合資料到正態分布\n",
    "result <- descdist(data, discrete = FALSE)\n",
    "\n",
    "# 繪製Cullen and Frey plot並設置標題為空字串\n",
    "plot(result$call$distribution, main = \"\")\n",
    "\n",
    "# 保存圖表為圖片\n",
    "png(file = \"local_cullen_and_frey_graph.png\", width = 4800, height = 4800, res = 900)\n",
    "plot(result$call$distribution, main = \"\")\n",
    "dev.off()\n",
    "\n",
    "# 保存圖表為PDF\n",
    "pdf(file = \"local_cullen_and_frey_graph.pdf\")\n",
    "plot(result$call$distribution, main = \"\")\n",
    "dev.off()\n"
   ]
  },
  {
   "cell_type": "code",
   "execution_count": 2,
   "id": "66c70498",
   "metadata": {},
   "outputs": [
    {
     "name": "stderr",
     "output_type": "stream",
     "text": [
      "Your code contains a unicode char which cannot be displayed in your\n",
      "current locale and R will silently convert it to an escaped form when the\n",
      "R kernel executes this code. This can lead to subtle errors if you use\n",
      "such chars to do comparisons. For more information, please see\n",
      "https://github.com/IRkernel/repr/wiki/Problems-with-unicode-on-windows"
     ]
    },
    {
     "data": {
      "text/html": [
       "<strong>png:</strong> 2"
      ],
      "text/latex": [
       "\\textbf{png:} 2"
      ],
      "text/markdown": [
       "**png:** 2"
      ],
      "text/plain": [
       "png \n",
       "  2 "
      ]
     },
     "metadata": {},
     "output_type": "display_data"
    },
    {
     "name": "stdout",
     "output_type": "stream",
     "text": [
      "Mean: 0.5955521 \n",
      "Variance: 0.006508264 \n",
      "Median: 0.5942857 \n",
      "Q1: 0.5418067 \n",
      "Q3: 0.6449365 \n"
     ]
    },
    {
     "data": {
      "image/png": "[encoded data removed]",
      "text/plain": [
       "Plot with title \"Histogram of Data\""
      ]
     },
     "metadata": {},
     "output_type": "display_data"
    }
   ],
   "source": [
    "library(fitdistrplus)\n",
    "\n",
    "# 讀取資料\n",
    "data <- read.csv(\"poisson_plot_latency.csv\", header = TRUE)\n",
    "data <- as.numeric(unlist(data))\n",
    "\n",
    "# 繪製直方圖\n",
    "hist(data, breaks = 30, main = \"Histogram of Data\", xlab = \"Value\")\n",
    "\n",
    "# 儲存圖片\n",
    "png(file=\"offloading_histogram.png\", width=800, height=600)\n",
    "hist(data, breaks = 30, main = \"Histogram of Data\", xlab = \"Value\")\n",
    "dev.off()\n",
    "\n",
    "\n",
    "# 计算均值\n",
    "mean_value <- mean(data)\n",
    "\n",
    "# 计算方差\n",
    "variance <- var(data)\n",
    "\n",
    "# 计算中位数\n",
    "median_value <- median(data)\n",
    "\n",
    "# 计算第一四分位数和第三四分位数\n",
    "quartiles <- quantile(data, probs = c(0.25, 0.75))\n",
    "q1 <- quartiles[1]\n",
    "q3 <- quartiles[2]\n",
    "\n",
    "# 输出统计指标\n",
    "cat(\"Mean:\", mean_value, \"\\n\")\n",
    "cat(\"Variance:\", variance, \"\\n\")\n",
    "cat(\"Median:\", median_value, \"\\n\")\n",
    "cat(\"Q1:\", q1, \"\\n\")\n",
    "cat(\"Q3:\", q3, \"\\n\")"
   ]
  },
  {
   "cell_type": "code",
   "execution_count": 13,
   "id": "d700dfd5",
   "metadata": {},
   "outputs": [
    {
     "name": "stdout",
     "output_type": "stream",
     "text": [
      "               _                           \n",
      "platform       x86_64-w64-mingw32          \n",
      "arch           x86_64                      \n",
      "os             mingw32                     \n",
      "system         x86_64, mingw32             \n",
      "status                                     \n",
      "major          3                           \n",
      "minor          6.1                         \n",
      "year           2019                        \n",
      "month          07                          \n",
      "day            05                          \n",
      "svn rev        76782                       \n",
      "language       R                           \n",
      "version.string R version 3.6.1 (2019-07-05)\n",
      "nickname       Action of the Toes          \n"
     ]
    }
   ],
   "source": [
    "version <- R.version\n",
    "print(version)"
   ]
  }
 ],
 "metadata": {
  "kernelspec": {
   "display_name": "R",
   "language": "R",
   "name": "ir"
  },
  "language_info": {
   "codemirror_mode": "r",
   "file_extension": ".r",
   "mimetype": "text/x-r-source",
   "name": "R",
   "pygments_lexer": "r",
   "version": "3.6.1"
  }
 },
 "nbformat": 4,
 "nbformat_minor": 5
}
